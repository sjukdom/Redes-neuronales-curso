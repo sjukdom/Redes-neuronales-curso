{
 "cells": [
  {
   "cell_type": "markdown",
   "metadata": {},
   "source": [
    "## Practica 6: Retropropagacion\n",
    "\n",
    "Implementar el algoritmo de retropropagacion para aproximar la funcion continua $f(p) = 1 + sin(\\frac{\\pi}{4}p)$"
   ]
  },
  {
   "cell_type": "code",
   "execution_count": 180,
   "metadata": {},
   "outputs": [],
   "source": [
    "import numpy as np\n",
    "import matplotlib.pyplot as plt\n",
    "%matplotlib inline"
   ]
  },
  {
   "cell_type": "code",
   "execution_count": 181,
   "metadata": {},
   "outputs": [],
   "source": [
    "class NNetwork():\n",
    "    \n",
    "    def __init__(self, inputs, layers):\n",
    "        self.inputs = inputs     # numero de entradas\n",
    "        self.layers = layers     # numero de capas\n",
    "        self.W = [0]*layers      # lista de matrices de pesos\n",
    "        self.b = [0]*layers      # lista de vectores bias\n",
    "        self.p = [0]*inputs      # lista de entradas\n",
    "        self.n = [0]*layers      # lista de las sumas\n",
    "        self.a = [0]*(layers+1)  # lista de salidas\n",
    "        self.f = []              # funciones de activacion\n",
    "        self.s = [0]*layers      # sensibilidades de la red \n",
    "        self.e = []              # lista de errores \n",
    "        \n",
    "    def feedForward(self):\n",
    "        ''' calcula las salidas en cada una de las capas '''\n",
    "        # a0 = p\n",
    "        self.a[0] = np.array(self.p)                                        \n",
    "        for i in range(self.layers):\n",
    "            # producto matriz-escalar\n",
    "            if self.a[i].size == 1:\n",
    "                n = self.W[i]*self.a[i] + self.b[i]\n",
    "            # producto matriz-vector\n",
    "            else:\n",
    "                n = np.matmul(self.W[i], self.a[i]) + self.b[i]\n",
    "            # an+1 = fn(Wnan+bn) \n",
    "            a = self.f[i](n)                                       \n",
    "            self.n[i] = np.array(n)\n",
    "            self.a[i+1] = np.array(a)\n",
    "    \n",
    "    def error(self, t, a):\n",
    "        ''' calcula el error '''\n",
    "        self.e = t-a\n",
    "    \n",
    "    def backpropagation(self):\n",
    "        ''' realiza la retropropagacion '''\n",
    "        # sensibilidad capa 2\n",
    "        s2 = -2*1*self.e[0]\n",
    "        dF = []\n",
    "        # construir la matriz Jacobiana\n",
    "        #for i in range(self.layers):\n",
    "        for i in range(len(self.b[0])):\n",
    "            dF.append((1-self.a[1][i])*self.a[1][i])\n",
    "        dF = np.diag(dF)\n",
    "        # sensibilidad capa 1\n",
    "        s1 = np.matmul(dF, self.W[1]) * s2\n",
    "        \n",
    "        self.s[0] = s1\n",
    "        self.s[1] = s2\n",
    "        \n",
    "    def updateWnB(self, alpha):\n",
    "        ''' actualizar los pesos y los bias de cada capa'''\n",
    "        for i in range(self.layers):\n",
    "            self.W[i] = self.W[i] - alpha*self.s[i]*self.a[i]\n",
    "            self.b[i] = self.b[i] - alpha*self.s[i]\n",
    "    \n",
    "    def learn(self, t, p, alpha, epochs):\n",
    "        ''' entrenamiento de la red neuronal'''\n",
    "        for k in range(epochs):\n",
    "            if k == 0:\n",
    "                self.p = 1\n",
    "            else:\n",
    "                self.p = p[np.random.randint(0, len(p))]\n",
    "            self.feedForward()\n",
    "            self.error(t(self.p), self.a[2])\n",
    "            self.backpropagation()\n",
    "            self.updateWnB(alpha)\n",
    "            \n",
    "            if k == 0:\n",
    "                print('a0 = ', self.a[0])\n",
    "                print('a1 = ', self.a[1])\n",
    "                print('a2 = ', self.a[2])\n",
    "                print('error = ', self.e[0])\n",
    "                print('Pesos:')\n",
    "                print(self.W)\n",
    "                print('Bias:')\n",
    "                print(self.b)\n",
    "            \n",
    "    def predict(self, p):\n",
    "        y = []\n",
    "        for x in p:\n",
    "            n1 = self.W[0]*x + self.b[0]\n",
    "            a1 = self.f[0](n1)\n",
    "            a2 = np.matmul(self.W[1], a1) + self.b[1]\n",
    "            y.append(a2)\n",
    "        return y"
   ]
  },
  {
   "cell_type": "code",
   "execution_count": 182,
   "metadata": {},
   "outputs": [],
   "source": [
    "# Creacion de la red neuronal con 1 entrada y 2 capas\n",
    "nn = NNetwork(1, 2)"
   ]
  },
  {
   "cell_type": "code",
   "execution_count": 183,
   "metadata": {},
   "outputs": [
    {
     "data": {
      "text/plain": [
       "<numpy.lib.function_base.vectorize at 0x271959a0d68>"
      ]
     },
     "execution_count": 183,
     "metadata": {},
     "output_type": "execute_result"
    }
   ],
   "source": [
    "# Inicializacion de los parametros de la red\n",
    "nn.W = [[-0.27, -0.41], [0.09, -0.17]]                      # Matriz de pesos inicial\n",
    "nn.b = [[-0.48, -0.13], [0.48]]                               # Vector de bias inicial\n",
    "nn.p = np.array([1])                                        # Valor de p inicial\n",
    "nn.f = [lambda x: 1/(1+np.power(np.e, -x)), lambda x: x]    # Funciones de activacion\n",
    "\n",
    "p = np.arange(-2,2.2, 0.2)                                  # Vector p con las 21 muestras\n",
    "\n",
    "t = lambda x: 1 + np.sin(np.pi/4*x)                         # Funcion objetivo a aproximar\n",
    "\n",
    "np.vectorize(nn.f)                                          # Vectorizacion de las funciones \n",
    "np.vectorize(t)"
   ]
  },
  {
   "cell_type": "code",
   "execution_count": 184,
   "metadata": {},
   "outputs": [
    {
     "name": "stdout",
     "output_type": "stream",
     "text": [
      "a0 =  1\n",
      "a1 =  [0.3208213  0.36818758]\n",
      "a2 =  [0.44628203]\n",
      "error =  1.2608247530971957\n",
      "Pesos:\n",
      "[array([-0.26505491, -0.4199722 ]), array([ 0.17089989, -0.077156  ])]\n",
      "Bias:\n",
      "[array([-0.47505491, -0.1399722 ]), array([0.73216495])]\n"
     ]
    }
   ],
   "source": [
    "# Entrenamiento de la red neuronal\n",
    "# Se imprimen los resultados de la primera iteracion\n",
    "# para verificar que son como los obtenidos en clase\n",
    "nn.learn(t, p, 0.1, 1000)"
   ]
  },
  {
   "cell_type": "code",
   "execution_count": 185,
   "metadata": {},
   "outputs": [
    {
     "name": "stdout",
     "output_type": "stream",
     "text": [
      "Vector de pesos capa 1:\n",
      "\n",
      "0.4768\n",
      "-1.5922\n",
      "\n",
      "Vector de pesos capa 2:\n",
      "\n",
      "0.5983\n",
      "-1.9429\n",
      "\n",
      "Vector bias capa 1:\n",
      "\n",
      "[-0.47036537 -0.04135425]\n",
      "\n",
      "Vector bias capa 2:\n",
      "\n",
      "[1.71658717]\n"
     ]
    }
   ],
   "source": [
    "print('Vector de pesos capa 1:\\n')\n",
    "for w in nn.W[0]:\n",
    "    print(\"%.4f\" % w)\n",
    "    \n",
    "print('\\nVector de pesos capa 2:\\n')\n",
    "for w in nn.W[1]:\n",
    "    print(\"%.4f\" % w)\n",
    "    \n",
    "print('\\nVector bias capa 1:\\n')\n",
    "print(nn.b[0])\n",
    "print('\\nVector bias capa 2:\\n')\n",
    "print(nn.b[1])"
   ]
  },
  {
   "cell_type": "code",
   "execution_count": 186,
   "metadata": {},
   "outputs": [],
   "source": [
    "# Predecir los valores de salida para cada p\n",
    "y = nn.predict(p)"
   ]
  },
  {
   "cell_type": "code",
   "execution_count": 187,
   "metadata": {},
   "outputs": [],
   "source": [
    "# Vectores de salida y entrada\n",
    "y = [x[0] for x in y]\n",
    "x = [n for n in p]"
   ]
  },
  {
   "cell_type": "code",
   "execution_count": 188,
   "metadata": {},
   "outputs": [],
   "source": [
    "# Calcular los valores reales\n",
    "y_real = [t(n) for n in x]"
   ]
  },
  {
   "cell_type": "code",
   "execution_count": 189,
   "metadata": {},
   "outputs": [
    {
     "data": {
      "image/png": "[encoded data removed]",
      "text/plain": [
       "<Figure size 432x432 with 1 Axes>"
      ]
     },
     "metadata": {},
     "output_type": "display_data"
    }
   ],
   "source": [
    "plt.figure(figsize=(6, 6))\n",
    "plt.plot(x, y_real)\n",
    "plt.plot(x, y)\n",
    "plt.title(r\"$ 1 + sin(\\frac{\\pi}{4}p) $\",fontsize=19)\n",
    "plt.xlabel('p')\n",
    "plt.ylabel('f(p)')\n",
    "plt.legend(['Real','Prediccion'])\n",
    "plt.grid(True)\n",
    "plt.show()"
   ]
  }
 ],
 "metadata": {
  "kernelspec": {
   "display_name": "Python 3",
   "language": "python",
   "name": "python3"
  },
  "language_info": {
   "codemirror_mode": {
    "name": "ipython",
    "version": 3
   },
   "file_extension": ".py",
   "mimetype": "text/x-python",
   "name": "python",
   "nbconvert_exporter": "python",
   "pygments_lexer": "ipython3",
   "version": "3.6.5"
  }
 },
 "nbformat": 4,
 "nbformat_minor": 2
}
