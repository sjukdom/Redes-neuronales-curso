{
 "cells": [
  {
   "cell_type": "markdown",
   "metadata": {},
   "source": [
    "# Proyecto 1: Reconocimiento de digitos manuscritos\n",
    "\n",
    "Para reconocer digitos manuscritos se usa la base de datos MNIST y una red neuronal multicapa, usando como algoritmo de aprendizaje el de retropopagación. Son formados tres conjuntos:\n",
    "\n",
    "1. Entrenamiento\n",
    "2. Validacion\n",
    "3. Prueba\n",
    "\n",
    "Las imagenes de los digitos manuscritos son imagenes con un tamaño de 28x28, por lo que la entrada de la red neuronal es un vector de dimensión 728. Se probará la precisión de la red usando distintas capas ocultas con 30 neuronas cada una para verificar que configuración es mejor: si una con pocas capas ocultas, o por lo contrario, una red con muchas capas ocultas. \n",
    "\n",
    "La salida de la red neuronal es una capa con 10 neuronas, donde se mide en cada una la probabilidad de que el digito manuscrito sea un 0, 1, 2, ..., 9. \n",
    "\n",
    "La idea del proyecto es medir la presición usando las siguientes configuraciones:\n",
    "\n",
    "1. Tres capas, 30 neuronas en la capa oculta.\n",
    "2. Cuatro capas, 30 neuronas en las dos capas ocultas.\n",
    "3. Cinco capas, 30 neuronas en las tres capas ocultas.\n",
    "4. Seis capas, 30 neuronas en las cuatro capas ocultas."
   ]
  },
  {
   "cell_type": "code",
   "execution_count": 16,
   "metadata": {},
   "outputs": [],
   "source": [
    "import numpy as np\n",
    "import nnetwork\n",
    "import mnist_loader\n",
    "import matplotlib.pyplot as plt\n",
    "%matplotlib inline"
   ]
  },
  {
   "cell_type": "code",
   "execution_count": 21,
   "metadata": {},
   "outputs": [],
   "source": [
    "training_data, validation_data, test_data = mnist_loader.load_data_wrapper()"
   ]
  },
  {
   "cell_type": "code",
   "execution_count": 33,
   "metadata": {},
   "outputs": [],
   "source": [
    "numbers = []\n",
    "for i in range(10):\n",
    "    numbers.append(training_data[i][0].reshape(28, 28))\n",
    "    \n",
    "digits = np.vstack((np.hstack((digits[0], digits[1], digits[2])),\n",
    "                     np.hstack((digits[3], digits[4], digits[5])),\n",
    "                     np.hstack((digits[6], digits[7], digits[8]))))"
   ]
  },
  {
   "cell_type": "code",
   "execution_count": 36,
   "metadata": {},
   "outputs": [
    {
     "data": {
      "image/png": "[encoded data removed]",
      "text/plain": [
       "<Figure size 720x720 with 1 Axes>"
      ]
     },
     "metadata": {},
     "output_type": "display_data"
    }
   ],
   "source": [
    "plt.figure(figsize=(10, 10))\n",
    "plt.imshow(digits, cmap='gray')\n",
    "plt.title('Digitos manuscritos')\n",
    "plt.xticks([])\n",
    "plt.yticks([])\n",
    "plt.show()"
   ]
  },
  {
   "cell_type": "code",
   "execution_count": 60,
   "metadata": {},
   "outputs": [],
   "source": [
    "# Parametros de la red neuronal\n",
    "learning_rate = 3.0\n",
    "batch_size = 10\n",
    "epochs = 30"
   ]
  },
  {
   "cell_type": "markdown",
   "metadata": {},
   "source": [
    "### Configuración 1: 1 capa oculta"
   ]
  },
  {
   "cell_type": "code",
   "execution_count": 61,
   "metadata": {},
   "outputs": [],
   "source": [
    "net_1 = nnetwork.Network([784, 30, 10])"
   ]
  },
  {
   "cell_type": "code",
   "execution_count": 62,
   "metadata": {},
   "outputs": [
    {
     "name": "stdout",
     "output_type": "stream",
     "text": [
      "Epoch 0: 9061 / 10000\n",
      "Epoch 1: 9219 / 10000\n",
      "Epoch 2: 9261 / 10000\n",
      "Epoch 3: 9313 / 10000\n",
      "Epoch 4: 9310 / 10000\n",
      "Epoch 5: 9303 / 10000\n",
      "Epoch 6: 9327 / 10000\n",
      "Epoch 7: 9366 / 10000\n",
      "Epoch 8: 9366 / 10000\n",
      "Epoch 9: 9365 / 10000\n",
      "Epoch 10: 9394 / 10000\n",
      "Epoch 11: 9418 / 10000\n",
      "Epoch 12: 9418 / 10000\n",
      "Epoch 13: 9401 / 10000\n",
      "Epoch 14: 9402 / 10000\n",
      "Epoch 15: 9394 / 10000\n",
      "Epoch 16: 9427 / 10000\n",
      "Epoch 17: 9427 / 10000\n",
      "Epoch 18: 9411 / 10000\n",
      "Epoch 19: 9426 / 10000\n",
      "Epoch 20: 9423 / 10000\n",
      "Epoch 21: 9439 / 10000\n",
      "Epoch 22: 9423 / 10000\n",
      "Epoch 23: 9442 / 10000\n",
      "Epoch 24: 9421 / 10000\n",
      "Epoch 25: 9444 / 10000\n",
      "Epoch 26: 9456 / 10000\n",
      "Epoch 27: 9468 / 10000\n",
      "Epoch 28: 9424 / 10000\n",
      "Epoch 29: 9441 / 10000\n"
     ]
    }
   ],
   "source": [
    "net_1.SGD(training_data, epochs, batch_size, learning_rate, test_data=test_data)"
   ]
  },
  {
   "cell_type": "code",
   "execution_count": 63,
   "metadata": {},
   "outputs": [
    {
     "name": "stdout",
     "output_type": "stream",
     "text": [
      "Entrenamiento usando :\n",
      "learning rate = 0.1\n",
      "epochs = 30\n",
      "batch size = 10\n",
      "Precision = 94.41%\n"
     ]
    }
   ],
   "source": [
    "print'Entrenamiento usando :'\n",
    "print 'learning rate = %s' % 0.1\n",
    "print 'epochs = %s' % 30\n",
    "print 'batch size = %s' % 10\n",
    "print'Precision = ' + str(float(net_1.evaluate(test_data))/10000*100) + '%'"
   ]
  },
  {
   "cell_type": "markdown",
   "metadata": {},
   "source": [
    "### Configuración 2: 2 capas ocultas"
   ]
  },
  {
   "cell_type": "code",
   "execution_count": 64,
   "metadata": {},
   "outputs": [],
   "source": [
    "net_2 = nnetwork.Network([784, 30, 30, 10])"
   ]
  },
  {
   "cell_type": "code",
   "execution_count": 65,
   "metadata": {},
   "outputs": [
    {
     "name": "stdout",
     "output_type": "stream",
     "text": [
      "Epoch 0: 9086 / 10000\n",
      "Epoch 1: 9220 / 10000\n",
      "Epoch 2: 9305 / 10000\n",
      "Epoch 3: 9390 / 10000\n",
      "Epoch 4: 9381 / 10000\n",
      "Epoch 5: 9397 / 10000\n",
      "Epoch 6: 9421 / 10000\n",
      "Epoch 7: 9435 / 10000\n",
      "Epoch 8: 9447 / 10000\n",
      "Epoch 9: 9504 / 10000\n",
      "Epoch 10: 9447 / 10000\n",
      "Epoch 11: 9487 / 10000\n",
      "Epoch 12: 9495 / 10000\n",
      "Epoch 13: 9489 / 10000\n",
      "Epoch 14: 9467 / 10000\n",
      "Epoch 15: 9480 / 10000\n",
      "Epoch 16: 9424 / 10000\n",
      "Epoch 17: 9481 / 10000\n",
      "Epoch 18: 9519 / 10000\n",
      "Epoch 19: 9499 / 10000\n",
      "Epoch 20: 9522 / 10000\n",
      "Epoch 21: 9531 / 10000\n",
      "Epoch 22: 9510 / 10000\n",
      "Epoch 23: 9498 / 10000\n",
      "Epoch 24: 9513 / 10000\n",
      "Epoch 25: 9519 / 10000\n",
      "Epoch 26: 9532 / 10000\n",
      "Epoch 27: 9478 / 10000\n",
      "Epoch 28: 9528 / 10000\n",
      "Epoch 29: 9531 / 10000\n"
     ]
    }
   ],
   "source": [
    "net_2.SGD(training_data, epochs, batch_size, learning_rate, test_data=test_data)"
   ]
  },
  {
   "cell_type": "code",
   "execution_count": 66,
   "metadata": {},
   "outputs": [
    {
     "name": "stdout",
     "output_type": "stream",
     "text": [
      "Entrenamiento usando :\n",
      "learning rate = 0.1\n",
      "epochs = 30\n",
      "batch size = 10\n",
      "Precision = 95.31%\n"
     ]
    }
   ],
   "source": [
    "print'Entrenamiento usando :'\n",
    "print 'learning rate = %s' % 0.1\n",
    "print 'epochs = %s' % 30\n",
    "print 'batch size = %s' % 10\n",
    "print'Precision = ' + str(float(net_2.evaluate(test_data))/10000*100) + '%'"
   ]
  },
  {
   "cell_type": "markdown",
   "metadata": {},
   "source": [
    "### Configuración 3: 3 capas ocultas"
   ]
  },
  {
   "cell_type": "code",
   "execution_count": 67,
   "metadata": {},
   "outputs": [],
   "source": [
    "net_3 = nnetwork.Network([784, 30, 30, 30, 10])"
   ]
  },
  {
   "cell_type": "code",
   "execution_count": 68,
   "metadata": {},
   "outputs": [
    {
     "name": "stdout",
     "output_type": "stream",
     "text": [
      "Epoch 0: 9015 / 10000\n",
      "Epoch 1: 9197 / 10000\n",
      "Epoch 2: 9271 / 10000\n",
      "Epoch 3: 9309 / 10000\n",
      "Epoch 4: 9368 / 10000\n",
      "Epoch 5: 9360 / 10000\n",
      "Epoch 6: 9392 / 10000\n",
      "Epoch 7: 9419 / 10000\n",
      "Epoch 8: 9498 / 10000\n",
      "Epoch 9: 9426 / 10000\n",
      "Epoch 10: 9467 / 10000\n",
      "Epoch 11: 9475 / 10000\n",
      "Epoch 12: 9428 / 10000\n",
      "Epoch 13: 9500 / 10000\n",
      "Epoch 14: 9480 / 10000\n",
      "Epoch 15: 9483 / 10000\n",
      "Epoch 16: 9495 / 10000\n",
      "Epoch 17: 9503 / 10000\n",
      "Epoch 18: 9531 / 10000\n",
      "Epoch 19: 9480 / 10000\n",
      "Epoch 20: 9513 / 10000\n",
      "Epoch 21: 9531 / 10000\n",
      "Epoch 22: 9514 / 10000\n",
      "Epoch 23: 9522 / 10000\n",
      "Epoch 24: 9497 / 10000\n",
      "Epoch 25: 9507 / 10000\n",
      "Epoch 26: 9454 / 10000\n",
      "Epoch 27: 9501 / 10000\n",
      "Epoch 28: 9543 / 10000\n",
      "Epoch 29: 9533 / 10000\n"
     ]
    }
   ],
   "source": [
    "net_3.SGD(training_data, epochs, batch_size, learning_rate, test_data=test_data)"
   ]
  },
  {
   "cell_type": "code",
   "execution_count": 69,
   "metadata": {},
   "outputs": [
    {
     "name": "stdout",
     "output_type": "stream",
     "text": [
      "Entrenamiento usando :\n",
      "learning rate = 0.1\n",
      "epochs = 30\n",
      "batch size = 10\n",
      "Precision = 95.33%\n"
     ]
    }
   ],
   "source": [
    "print'Entrenamiento usando :'\n",
    "print 'learning rate = %s' % 0.1\n",
    "print 'epochs = %s' % 30\n",
    "print 'batch size = %s' % 10\n",
    "print'Precision = ' + str(float(net_3.evaluate(test_data))/10000*100) + '%'"
   ]
  },
  {
   "cell_type": "markdown",
   "metadata": {},
   "source": [
    "### Configuración 4: 4 capas ocultas"
   ]
  },
  {
   "cell_type": "code",
   "execution_count": 70,
   "metadata": {},
   "outputs": [],
   "source": [
    "net_4 = nnetwork.Network([784, 30, 30, 30, 30, 10])"
   ]
  },
  {
   "cell_type": "code",
   "execution_count": 71,
   "metadata": {},
   "outputs": [
    {
     "name": "stdout",
     "output_type": "stream",
     "text": [
      "Epoch 0: 8949 / 10000\n",
      "Epoch 1: 9147 / 10000\n",
      "Epoch 2: 9192 / 10000\n",
      "Epoch 3: 9273 / 10000\n",
      "Epoch 4: 9240 / 10000\n",
      "Epoch 5: 9336 / 10000\n",
      "Epoch 6: 9419 / 10000\n",
      "Epoch 7: 9363 / 10000\n",
      "Epoch 8: 9382 / 10000\n",
      "Epoch 9: 9447 / 10000\n",
      "Epoch 10: 9448 / 10000\n",
      "Epoch 11: 9451 / 10000\n",
      "Epoch 12: 9448 / 10000\n",
      "Epoch 13: 9436 / 10000\n",
      "Epoch 14: 9381 / 10000\n",
      "Epoch 15: 9488 / 10000\n",
      "Epoch 16: 9501 / 10000\n",
      "Epoch 17: 9440 / 10000\n",
      "Epoch 18: 9496 / 10000\n",
      "Epoch 19: 9449 / 10000\n",
      "Epoch 20: 9479 / 10000\n",
      "Epoch 21: 9445 / 10000\n",
      "Epoch 22: 9481 / 10000\n",
      "Epoch 23: 9496 / 10000\n",
      "Epoch 24: 9483 / 10000\n",
      "Epoch 25: 9491 / 10000\n",
      "Epoch 26: 9464 / 10000\n",
      "Epoch 27: 9425 / 10000\n",
      "Epoch 28: 9471 / 10000\n",
      "Epoch 29: 9489 / 10000\n"
     ]
    }
   ],
   "source": [
    "net_4.SGD(training_data, epochs, batch_size, learning_rate, test_data=test_data)"
   ]
  },
  {
   "cell_type": "code",
   "execution_count": 72,
   "metadata": {},
   "outputs": [
    {
     "name": "stdout",
     "output_type": "stream",
     "text": [
      "Entrenamiento usando :\n",
      "learning rate = 0.1\n",
      "epochs = 30\n",
      "batch size = 10\n",
      "Precision = 94.89%\n"
     ]
    }
   ],
   "source": [
    "print'Entrenamiento usando :'\n",
    "print 'learning rate = %s' % 0.1\n",
    "print 'epochs = %s' % 30\n",
    "print 'batch size = %s' % 10\n",
    "print'Precision = ' + str(float(net_4.evaluate(test_data))/10000*100) + '%'"
   ]
  }
 ],
 "metadata": {
  "kernelspec": {
   "display_name": "py27",
   "language": "python",
   "name": "py27"
  },
  "language_info": {
   "codemirror_mode": {
    "name": "ipython",
    "version": 2
   },
   "file_extension": ".py",
   "mimetype": "text/x-python",
   "name": "python",
   "nbconvert_exporter": "python",
   "pygments_lexer": "ipython2",
   "version": "2.7.15"
  }
 },
 "nbformat": 4,
 "nbformat_minor": 2
}
